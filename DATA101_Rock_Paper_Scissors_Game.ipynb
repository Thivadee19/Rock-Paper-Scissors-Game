{
  "nbformat": 4,
  "nbformat_minor": 0,
  "metadata": {
    "colab": {
      "name": "DATA101_Rock Paper Scissors Game",
      "provenance": [],
      "authorship_tag": "ABX9TyPOLMsgATKdgudVikKWH618",
      "include_colab_link": true
    },
    "kernelspec": {
      "name": "python3",
      "display_name": "Python 3"
    },
    "language_info": {
      "name": "python"
    }
  },
  "cells": [
    {
      "cell_type": "markdown",
      "metadata": {
        "id": "view-in-github",
        "colab_type": "text"
      },
      "source": [
        "<a href=\"https://colab.research.google.com/github/Thivadee19/Rock-Paper-Scissors-Game/blob/main/DATA101_Rock_Paper_Scissors_Game.ipynb\" target=\"_parent\"><img src=\"https://colab.research.google.com/assets/colab-badge.svg\" alt=\"Open In Colab\"/></a>"
      ]
    },
    {
      "cell_type": "code",
      "metadata": {
        "colab": {
          "base_uri": "https://localhost:8080/"
        },
        "id": "J0-lyPAMXWqk",
        "outputId": "177a2475-18c0-4d33-b939-0b2133a85214"
      },
      "source": [
        "#/usr/bin/python3\n",
        "import random\n",
        "print ('Hello')\n",
        "\n",
        "print ('Welcome to the game! let see if you can win me ! hehe')\n",
        "\n",
        "print ('Rock    = 1')\n",
        "print ('paper   = 2')\n",
        "print ('scissor = 3')\n",
        "\n",
        "print ('Please choose one of this number into the blank area')\n",
        "user_input = int(input () )\n",
        "if user_input == 1:\n",
        "  print ('you chose Rock')\n",
        "if user_input == 2:\n",
        "  print ('you chose paper')\n",
        "if user_input == 3:\n",
        "  print ('you chose scissor')\n",
        "\n",
        "\n",
        "computer_hand = random.randint(1, 3)\n",
        "\n",
        "if computer_hand == 1:\n",
        " print('I chose rock')\n",
        "if computer_hand == 2:\n",
        " print('I chose paper')\n",
        "if computer_hand == 3:\n",
        " print('I chose scissor')\n",
        "\n",
        "lost = 'You lose!'\n",
        "win = 'you win!'\n",
        "draw = 'we draw!'\n",
        "if user_input == 1 and computer_hand == 2:\n",
        " print (lost.upper())\n",
        "if user_input == 1 and computer_hand == 3:\n",
        " print (win.upper())\n",
        "if user_input == 1 and computer_hand == 1:\n",
        " print (draw.upper())\n",
        "if user_input == 2 and computer_hand == 1:\n",
        " print (win.upper())\n",
        "if user_input == 2 and computer_hand == 2:\n",
        " print (draw.upper())\n",
        "if user_input == 2 and computer_hand == 3:\n",
        " print (lost.upper())\n",
        "if user_input == 3 and computer_hand == 1:\n",
        " print (lost.upper())\n",
        "if user_input == 3 and computer_hand == 2:\n",
        " print (win.upper())\n",
        "if user_input == 3 and computer_hand == 3:\n",
        " print (draw.upper())"
      ],
      "execution_count": 1,
      "outputs": [
        {
          "output_type": "stream",
          "text": [
            "Hello\n",
            "Welcome to the game! let see if you can win me ! hehe\n",
            "Rock    = 1\n",
            "paper   = 2\n",
            "scissor = 3\n",
            "Please choose one of this number into the blank area\n",
            "you chose scissor\n",
            "I chose scissor\n",
            "WE DRAW!\n"
          ],
          "name": "stdout"
        }
      ]
    }
  ]
}